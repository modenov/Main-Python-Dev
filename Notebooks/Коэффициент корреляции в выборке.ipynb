{
 "cells": [
  {
   "cell_type": "code",
   "execution_count": 1,
   "id": "0977c9bb",
   "metadata": {},
   "outputs": [
    {
     "name": "stdout",
     "output_type": "stream",
     "text": [
      "-1.0\n"
     ]
    }
   ],
   "source": [
    "from scipy.stats import stats\n",
    "\n",
    "A = \"\"\"X Y\n",
    "4 2\n",
    "5 1\n",
    "2 4\n",
    "3 3\n",
    "1 5\"\"\"\n",
    "\n",
    "x, y = [], []\n",
    "\n",
    "[(x.append(int(a[0])), y.append(int(a[2]))) for a in A.split('\\n') if a[0].isdigit()]\n",
    "\n",
    "print(stats.pearsonr(x,y)[0])"
   ]
  },
  {
   "cell_type": "code",
   "execution_count": 4,
   "id": "3885cde1",
   "metadata": {},
   "outputs": [
    {
     "data": {
      "image/png": "[encoded data removed]",
      "text/plain": [
       "<Figure size 432x288 with 1 Axes>"
      ]
     },
     "metadata": {
      "needs_background": "light"
     },
     "output_type": "display_data"
    }
   ],
   "source": [
    "import matplotlib.pyplot as plt\n",
    "import numpy as np\n",
    "\n",
    "N = 100\n",
    "\n",
    "x = np.array([np.random.randint(50,100) for i in range(N)])\n",
    "y = np.array([i+np.random.randint(80,120)-np.random.randint(-20,20) for i in x])\n",
    "\n",
    "plt.scatter(x, y)\n",
    "b1, b0 = np.polyfit(x, y, 1) #  b0 - intercept, b1 - slope\n",
    "plt.plot(x, b0 + b1*x, color='green')\n",
    "plt.show()"
   ]
  },
  {
   "cell_type": "code",
   "execution_count": null,
   "id": "cf1abf68",
   "metadata": {},
   "outputs": [],
   "source": []
  }
 ],
 "metadata": {
  "kernelspec": {
   "display_name": "Python 3 (ipykernel)",
   "language": "python",
   "name": "python3"
  },
  "language_info": {
   "codemirror_mode": {
    "name": "ipython",
    "version": 3
   },
   "file_extension": ".py",
   "mimetype": "text/x-python",
   "name": "python",
   "nbconvert_exporter": "python",
   "pygments_lexer": "ipython3",
   "version": "3.9.12"
  }
 },
 "nbformat": 4,
 "nbformat_minor": 5
}
